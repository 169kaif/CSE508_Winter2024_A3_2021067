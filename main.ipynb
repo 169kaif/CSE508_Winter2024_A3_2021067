{
 "cells": [
  {
   "cell_type": "code",
   "execution_count": 1,
   "metadata": {},
   "outputs": [],
   "source": [
    "#make imports\n",
    "\n",
    "import os\n",
    "import sys\n",
    "import pandas as pd\n",
    "import numpy as np\n",
    "import pickle\n",
    "import re\n",
    "import unicodedata\n",
    "from nltk.stem import WordNetLemmatizer\n",
    "from collections import defaultdict\n",
    "from wordcloud import WordCloud"
   ]
  },
  {
   "cell_type": "code",
   "execution_count": 2,
   "metadata": {},
   "outputs": [],
   "source": [
    "#import headphones metadata and reviews in pandas dataframe\n",
    "\n",
    "with open('headphone_meta_df.pkl', 'rb') as f:\n",
    "    meta_df = pickle.load(f)\n",
    "\n",
    "with open('headphone_review_df.pkl', 'rb') as f:\n",
    "    review_df = pickle.load(f)"
   ]
  },
  {
   "cell_type": "code",
   "execution_count": 3,
   "metadata": {},
   "outputs": [
    {
     "name": "stdout",
     "output_type": "stream",
     "text": [
      "the dimensions of the review dataframe are:  (735, 12)\n",
      "the dimensions of the metadata dataframe are:  (27396, 19)\n"
     ]
    }
   ],
   "source": [
    "#print the number of rows and columns in metadata and reviews\n",
    "\n",
    "print(\"the dimensions of the review dataframe are: \", review_df.shape)\n",
    "print(\"the dimensions of the metadata dataframe are: \", meta_df.shape)"
   ]
  },
  {
   "cell_type": "code",
   "execution_count": 4,
   "metadata": {},
   "outputs": [
    {
     "name": "stdout",
     "output_type": "stream",
     "text": [
      "Index(['overall', 'vote', 'verified', 'reviewTime', 'reviewerID', 'asin',\n",
      "       'style', 'reviewerName', 'reviewText', 'summary', 'unixReviewTime',\n",
      "       'image'],\n",
      "      dtype='object')\n",
      "Index(['category', 'tech1', 'description', 'fit', 'title', 'also_buy', 'tech2',\n",
      "       'brand', 'feature', 'rank', 'also_view', 'main_cat', 'similar_item',\n",
      "       'date', 'price', 'asin', 'imageURL', 'imageURLHighRes', 'details'],\n",
      "      dtype='object')\n"
     ]
    }
   ],
   "source": [
    "print(review_df.columns)\n",
    "print(meta_df.columns)"
   ]
  },
  {
   "cell_type": "code",
   "execution_count": 5,
   "metadata": {},
   "outputs": [
    {
     "name": "stdout",
     "output_type": "stream",
     "text": [
      "The number of reviews are:  735\n",
      "The average rating score is:  3.379591836734694\n",
      "The number of unique products are:  494\n",
      "The number of good ratings are:  517\n",
      "The number of bad ratings are:  218\n",
      "The number of reviews corresponding to each rating are:  overall\n",
      "5.0    231\n",
      "4.0    162\n",
      "1.0    127\n",
      "3.0    124\n",
      "2.0     91\n",
      "Name: count, dtype: int64\n"
     ]
    }
   ],
   "source": [
    "#descriptive stats of the product\n",
    "\n",
    "print(\"The number of reviews are: \", review_df.shape[0])\n",
    "print(\"The average rating score is: \", review_df['overall'].mean())\n",
    "print(\"The number of unique products are: \", len(review_df['asin'].unique()))\n",
    "print(\"The number of good ratings are: \", review_df[review_df['overall'] >= 3].shape[0])\n",
    "print(\"The number of bad ratings are: \", review_df[review_df['overall'] < 3].shape[0])\n",
    "print(\"The number of reviews corresponding to each rating are: \", review_df['overall'].value_counts())"
   ]
  },
  {
   "cell_type": "code",
   "execution_count": 6,
   "metadata": {},
   "outputs": [],
   "source": [
    "acronyms_dict = {\n",
    "    'lol': 'laugh out loud',\n",
    "    'btw': 'by the way',\n",
    "    'b4': 'before',\n",
    "    'rofl': 'rolling on the floor laughing',\n",
    "}\n",
    "\n",
    "def preprocess_text(text):\n",
    "\n",
    "    #remove the html tags\n",
    "    text = re.sub(r'<.*?>', '', text)\n",
    "    \n",
    "    #remove accented characters\n",
    "    #source: \"https://guangyuwu.wordpress.com/2017/09/27/normalizing-unicode/\"\n",
    "    text = unicodedata.normalize('NFKD', text).encode('ascii', 'ignore').decode('utf-8', 'ignore')\n",
    "\n",
    "    #expand acronyms\n",
    "    for acronym, replacement in acronyms_dict.items():\n",
    "        text = text.replace(acronym, replacement)\n",
    "\n",
    "    #lemmatize the text\n",
    "    lemmatizer = WordNetLemmatizer()\n",
    "    text = ' '.join([lemmatizer.lemmatize(word) for word in text.split()])\n",
    "\n",
    "    #normalize the text\n",
    "    text = text.lower()\n",
    "\n",
    "    return text"
   ]
  },
  {
   "cell_type": "code",
   "execution_count": 7,
   "metadata": {},
   "outputs": [],
   "source": [
    "#preprocess the review text and add as a new column in the review dataframe\n",
    "\n",
    "review_df['processed_text'] = review_df['reviewText'].apply(preprocess_text)"
   ]
  },
  {
   "cell_type": "code",
   "execution_count": 8,
   "metadata": {},
   "outputs": [
    {
     "name": "stdout",
     "output_type": "stream",
     "text": [
      "11677      i buy at least a couple pair of koss headphone...\n",
      "12708      wow. for the price it pimp slap half the can i...\n",
      "12815      lasted a little over a year. was expecting mor...\n",
      "14041      amazing sound quality in such a portable desig...\n",
      "14062      i've had these headphone for a couple month no...\n",
      "                                 ...                        \n",
      "6406100    these headphone are extremely flimsy. so flims...\n",
      "6412066    i need over ear phone since my office mate i s...\n",
      "6481656    i purchased this to view tv without disturbing...\n",
      "6627772    i had read the review on these before i bought...\n",
      "6716841    i consider myself an audiophile per-se, i love...\n",
      "Name: processed_text, Length: 735, dtype: object\n"
     ]
    }
   ],
   "source": [
    "print(review_df['processed_text'])"
   ]
  },
  {
   "cell_type": "code",
   "execution_count": 9,
   "metadata": {},
   "outputs": [
    {
     "name": "stdout",
     "output_type": "stream",
     "text": [
      "The top 20 most reviewed brands are:  ['Sony', 'Sennheiser', 'Bose', 'V-MODA', 'beyerdynamic', 'Koss', 'Audio-Technica', 'Beats', 'Bluedio', 'Panasonic', 'MEE audio', 'JVC', 'Creative', 'EldHus', 'BRAINWAVZ', 'SMS Audio', 'Symphonized', 'Avantree', 'Jaybird', 'JBL']\n",
      "The top 20 least reviewed brands are:  ['Jarv', 'Rokit Boost', 'White Label', 'Pioneer', 'HiFiMAn Electronics', 'CAD Audio', 'iLuv', 'Motorheadphones', 'It is', 'Gedun', 'Adventure Time', 'Tascam', 'Griffin Technology', 'Sentry Industries Inc.', 'Noontec', 'DAEETO', 'Seotic', 'Just Mobile', 'Aecoke', 'Audeze']\n",
      "The most positively reviewed product is:  Koss SportaPro Stereo Headphones\n",
      "\n",
      "\n",
      "\n",
      "\n",
      "The count of ratings for the product  Koss SportaPro Stereo Headphones  over 5 consecutive years are: \n",
      "year\n",
      "2017    1\n",
      "Name: overall, dtype: int64\n",
      "The count of ratings for the product  Sennheiser HD 600 Open Back Professional Headphone  over 5 consecutive years are: \n",
      "year\n",
      "2015    2\n",
      "2016    1\n",
      "Name: overall, dtype: int64\n",
      "The count of ratings for the product  Sennheiser MX400 In-Ear Headphone with Carrying Case (Discontinued by Manufacturer)  over 5 consecutive years are: \n",
      "year\n",
      "2006    1\n",
      "Name: overall, dtype: int64\n",
      "\n",
      "\n",
      "\n",
      "\n",
      "The most commonly used words for positive reviews are: \n",
      "{'headphone': 1.0, 'sound': 0.5854430379746836, 'wa': 0.47658227848101264, 'ear': 0.37468354430379747, 'good': 0.3310126582278481, 'use': 0.31265822784810127, 'will': 0.3012658227848101, 'one': 0.29620253164556964, 'bass': 0.2848101265822785, 'music': 0.2639240506329114, 'great': 0.21835443037974683, 'well': 0.21012658227848102, 'product': 0.20253164556962025, 'ha': 0.20189873417721518, 'review': 0.1930379746835443, 'really': 0.1848101265822785, 'time': 0.17974683544303796, 'headset': 0.17278481012658228, 'cable': 0.16962025316455695, 'comfortable': 0.1689873417721519, 'fit': 0.1670886075949367, 'phone': 0.1620253164556962, 'head': 0.16139240506329114, 'pair': 0.160126582278481, 'quality': 0.15886075949367087, 'set': 0.15886075949367087, 'feel': 0.15759493670886077, 'still': 0.1569620253164557, 'volume': 0.1550632911392405, 'nice': 0.15443037974683543, 'even': 0.15379746835443037, 'look': 0.1518987341772152, 'much': 0.14936708860759493, 'make': 0.1468354430379747, 'case': 0.14620253164556962, 'little': 0.1449367088607595, 'come': 0.1449367088607595, 'high': 0.14367088607594936, 'price': 0.14177215189873418, 'used': 0.13924050632911392, 'earbud': 0.13860759493670885, 'better': 0.1379746835443038, 'work': 0.13544303797468354, 'using': 0.13481012658227848, 'button': 0.1341772151898734, 'around': 0.13227848101265824, 'sound quality': 0.12974683544303797, 'listening': 0.1291139240506329, 'now': 0.12784810126582277, 'way': 0.1259493670886076, 'audio': 0.1240506329113924, 'thing': 0.12215189873417721, 'cord': 0.12151898734177215, 'device': 0.1208860759493671, 'want': 0.11962025316455696, 'hear': 0.11645569620253164, 'hour': 0.11645569620253164, 'right': 0.11518987341772152, 'without': 0.11392405063291139, 'seem': 0.11265822784810127, 'go': 0.1120253164556962, 'best': 0.1120253164556962, 'bit': 0.11139240506329114, 'need': 0.11075949367088607, 'bose': 0.11075949367088607, 'lot': 0.10822784810126582, 'design': 0.10822784810126582, 'say': 0.10569620253164556, 'see': 0.10189873417721519, 'two': 0.10126582278481013, 'think': 0.10063291139240506, 'back': 0.1, 'doe': 0.09683544303797469, 'may': 0.0949367088607595, 'issue': 0.09430379746835443, 'first': 0.09240506329113925, 'got': 0.09177215189873418, 'give': 0.09177215189873418, 'overall': 0.09113924050632911, 'know': 0.09050632911392405, 'found': 0.09050632911392405, 'beat': 0.08987341772151898, 'side': 0.0879746835443038, 'made': 0.0879746835443038, 'find': 0.0879746835443038, 'problem': 0.08734177215189873, 'plug': 0.08670886075949367, 'clear': 0.08544303797468354, 'enough': 0.08544303797468354, 'control': 0.08544303797468354, 'new': 0.08481012658227848, 'something': 0.08417721518987342, 'put': 0.08354430379746836, 'long': 0.08354430379746836, 'though': 0.08291139240506329, 'bluetooth': 0.08291139240506329, 'take': 0.08227848101265822, 'small': 0.08164556962025317, 'earphone': 0.08164556962025317, 'year': 0.0810126582278481, 'part': 0.0810126582278481, 'wear': 0.08037974683544304, 'easy': 0.07911392405063292, 'box': 0.07911392405063292, 'looking': 0.07911392405063292, 'plastic': 0.07784810126582278, 'listen': 0.07784810126582278, 'keep': 0.07721518987341772, 'people': 0.07531645569620253, 'call': 0.07405063291139241, 'day': 0.07341772151898734, 'far': 0.07278481012658228, 'buy': 0.07215189873417721, 'pro': 0.07215189873417721, 'easily': 0.07215189873417721, 'love': 0.07151898734177216, 'mid': 0.07151898734177216, 'low': 0.07025316455696203, 'bought': 0.06835443037974684, 'excellent': 0.06835443037974684, 'wire': 0.06772151898734177, 'perfect': 0.0670886075949367, 'range': 0.0670886075949367, 'comfort': 0.06645569620253164, 'quite': 0.06582278481012659, 'sony': 0.06518987341772152, 'feature': 0.06518987341772152, 'different': 0.06455696202531645, 'speaker': 0.06455696202531645, 'star': 0.06392405063291139, 'size': 0.06329113924050633, 'le': 0.06329113924050633, 'going': 0.06265822784810127, 'light': 0.0620253164556962, 'actually': 0.0620253164556962, 'end': 0.06139240506329114, 'pretty': 0.060759493670886074, 'battery': 0.060759493670886074, 'hold': 0.060126582278481014, 'noise': 0.060126582278481014, 'pad': 0.060126582278481014, 'headband': 0.05886075949367089, 'con': 0.05886075949367089, 'included': 0.05822784810126582, 'big': 0.05822784810126582, 'treble': 0.05822784810126582, 'bud': 0.05822784810126582, 'received': 0.05759493670886076, 'experience': 0.05759493670886076, 'never': 0.056962025316455694, 'probably': 0.056962025316455694, 'turn': 0.056962025316455694, 'nbsp': 0.056962025316455694, 'update': 0.056329113924050635, 'mic': 0.05569620253164557, 'last': 0.05506329113924051, 'many': 0.05506329113924051, 'always': 0.05506329113924051, 'definitely': 0.05506329113924051, 'amazing': 0.05443037974683544, 'might': 0.05443037974683544, 'let': 0.05443037974683544, 'place': 0.05443037974683544, 'able': 0.05443037974683544, 'top': 0.05379746835443038, 'tried': 0.05379746835443038, 'microphone': 0.05379746835443038, 'everything': 0.053164556962025315, 'amazon': 0.053164556962025315, 'sure': 0.053164556962025315, 'power': 0.053164556962025315, 'play': 0.052531645569620256, 'try': 0.052531645569620256, 'bad': 0.052531645569620256, 'song': 0.052531645569620256, 'compared': 0.05189873417721519, 'inside': 0.05126582278481013, 'metal': 0.05126582278481013, 'sennheiser': 0.05126582278481013, 'cover': 0.05126582278481013, 'charge': 0.05126582278481013, 'either': 0.05, 'material': 0.049367088607594936, 'hard': 0.048734177215189876, 'reason': 0.04810126582278481, 'came': 0.04746835443037975, 'slightly': 0.04746835443037975, 'said': 0.04746835443037975, 'open': 0.04683544303797468, 'soft': 0.04683544303797468, 'test': 0.04683544303797468, 'level': 0.046202531645569624, 'point': 0.046202531645569624, 'especially': 0.04556962025316456, 'another': 0.04556962025316456, 'ipod': 0.04493670886075949, 'start': 0.04493670886075949, 'loud': 0.04493670886075949, 'build quality': 0.04493670886075949, 'large': 0.04430379746835443}\n",
      "upon observation the most commonly used words for positive reviews are: sound, good, great, well, comfortable, fit\n",
      "\n",
      "\n",
      "\n",
      "\n",
      "The most commonly used words for negative reviews are: \n",
      "{'headphone': 1.0, 'wa': 0.7063711911357341, 'sound': 0.49584487534626037, 'one': 0.40166204986149584, 'use': 0.37950138504155123, 'ear': 0.3462603878116344, 'will': 0.3462603878116344, 'good': 0.3379501385041551, 'time': 0.31301939058171746, 'review': 0.2880886426592798, 'product': 0.26869806094182824, 'even': 0.2659279778393352, 'pair': 0.23822714681440443, 'now': 0.23545706371191136, 'headset': 0.22714681440443213, 'work': 0.22714681440443213, 'year': 0.22714681440443213, 'ha': 0.22437673130193905, 'great': 0.20498614958448755, 'back': 0.20498614958448755, 'look': 0.18559556786703602, 'really': 0.18559556786703602, 'head': 0.18282548476454294, 'still': 0.18005540166204986, 'first': 0.18005540166204986, 'much': 0.1772853185595568, 'cable': 0.17174515235457063, 'used': 0.17174515235457063, 'month': 0.17174515235457063, 'see': 0.16897506925207756, 'quality': 0.16620498614958448, 'well': 0.16620498614958448, 'amazon': 0.15789473684210525, 'thing': 0.15789473684210525, 'better': 0.15789473684210525, 'broke': 0.1523545706371191, 'day': 0.1523545706371191, 'update': 0.14958448753462603, 'little': 0.14958448753462603, 'star': 0.1440443213296399, 'got': 0.1440443213296399, 'case': 0.1440443213296399, 'around': 0.14127423822714683, 'sound quality': 0.13850415512465375, 'bought': 0.13573407202216067, 'plastic': 0.13573407202216067, 'two': 0.1329639889196676, 'right': 0.1329639889196676, 'last': 0.1329639889196676, 'using': 0.13019390581717452, 'fit': 0.12742382271468145, 'buy': 0.12742382271468145, 'comfortable': 0.12742382271468145, 'make': 0.12465373961218837, 'way': 0.12465373961218837, 'wire': 0.12465373961218837, 'issue': 0.12465373961218837, 'week': 0.12465373961218837, 'come': 0.11911357340720222, 'wireless': 0.11634349030470914, 'side': 0.11634349030470914, 'take': 0.11357340720221606, 'cord': 0.11357340720221606, 'made': 0.11357340720221606, 'go': 0.11357340720221606, 'new': 0.11357340720221606, 'bluetooth': 0.11357340720221606, 'earbud': 0.11357340720221606, 'price': 0.11080332409972299, 'put': 0.10803324099722991, 'wear': 0.10803324099722991, 'set': 0.10526315789473684, 'music': 0.10526315789473684, 'photo': 0.10526315789473684, 'bass': 0.10249307479224377, 'enough': 0.10249307479224377, 'think': 0.0997229916897507, 'phone': 0.0997229916897507, 'say': 0.0997229916897507, 'design': 0.0997229916897507, 'picture': 0.0997229916897507, 'replacement': 0.0997229916897507, 'problem': 0.0997229916897507, 'nice': 0.0997229916897507, 'purchased': 0.0997229916897507, 'left': 0.09695290858725762, 'another': 0.09695290858725762, 'hour': 0.09695290858725762, 'never': 0.09418282548476455, 'know': 0.09418282548476455, 'button': 0.09141274238227147, 'return': 0.0886426592797784, 'bad': 0.0886426592797784, 'box': 0.0886426592797784, 'give': 0.0886426592797784, 'doe': 0.08587257617728532, 'mic': 0.08587257617728532, 'without': 0.08587257617728532, 'keep': 0.08587257617728532, 'going': 0.08310249307479224, 'tried': 0.08310249307479224, 'need': 0.08310249307479224, 'le': 0.08310249307479224, 'long': 0.08310249307479224, 'listening': 0.08033240997229917, 'bit': 0.08033240997229917, 'least': 0.08033240997229917, 'item': 0.07756232686980609, 'purchase': 0.07756232686980609, 'hear': 0.07756232686980609, 'device': 0.07756232686980609, 'find': 0.07756232686980609, 'high': 0.07756232686980609, 'said': 0.07756232686980609, 'bose': 0.07756232686980609, 'sure': 0.07479224376731301, 'received': 0.07479224376731301, 'want': 0.07479224376731301, 'volume': 0.07479224376731301, 'experience': 0.07479224376731301, 'feel': 0.07479224376731301, 'company': 0.07479224376731301, 'lot': 0.07202216066481995, 'started': 0.07202216066481995, 'part': 0.07202216066481995, 'came': 0.07202216066481995, 'noise': 0.06925207756232687, 'speaker': 0.06925207756232687, 'found': 0.06925207756232687, 'actually': 0.06925207756232687, 'listen': 0.06925207756232687, 'disappointed': 0.06925207756232687, 'seem': 0.06925207756232687, 'though': 0.06925207756232687, 'completely': 0.0664819944598338, 'jack': 0.0664819944598338, 'pro': 0.0664819944598338, 'cover': 0.0664819944598338, 'longer': 0.0664819944598338, 'sennheiser': 0.0664819944598338, 'pretty': 0.0664819944598338, 'mine': 0.06371191135734072, 'something': 0.06371191135734072, 'anything': 0.06371191135734072, 'small': 0.06371191135734072, 'foam': 0.06371191135734072, 'play': 0.06371191135734072, 'model': 0.06371191135734072, 'took': 0.06371191135734072, 'looking': 0.06371191135734072, 'warranty': 0.06371191135734072, 'ear cup': 0.06371191135734072, 'plug': 0.060941828254847646, 'audio': 0.060941828254847646, 'material': 0.060941828254847646, 'able': 0.060941828254847646, 'many': 0.060941828254847646, 'away': 0.060941828254847646, 'second': 0.060941828254847646, 'place': 0.060941828254847646, 'break': 0.060941828254847646, 'turn': 0.060941828254847646, 'headband': 0.060941828254847646, 'sony': 0.05817174515235457, 'money': 0.05817174515235457, 'stay': 0.05817174515235457, 'cheap': 0.05817174515235457, 'love': 0.05817174515235457, 'others': 0.05817174515235457, 'feature': 0.05817174515235457, 'minute': 0.05817174515235457, 'may': 0.05817174515235457, 'beat': 0.05817174515235457, 'wired': 0.05817174515235457, 'ear pad': 0.05817174515235457, 'build quality': 0.05817174515235457, 'wanted': 0.055401662049861494, 'best': 0.055401662049861494, 'inside': 0.055401662049861494, 'due': 0.055401662049861494, 'almost': 0.055401662049861494, 'maybe': 0.055401662049861494, 'light': 0.055401662049861494, 'point': 0.055401662049861494, 'every': 0.055401662049861494, 'thought': 0.055401662049861494, 'large': 0.05263157894736842, 'read': 0.05263157894736842, 'easily': 0.05263157894736842, 'far': 0.05263157894736842, 'hard': 0.05263157894736842, 'worked': 0.05263157894736842, 'loud': 0.05263157894736842, 'low': 0.05263157894736842, 'couple': 0.05263157894736842, 'nbsp': 0.05263157894736842, 'piece': 0.05263157894736842, 'everything': 0.05263157894736842, 'cost': 0.05263157894736842, 'black': 0.04986149584487535}\n",
      "upon observation the most commonly used words for negative reviews are: use, even, work, look, back, still\n",
      "\n",
      "\n",
      "\n",
      "\n"
     ]
    }
   ],
   "source": [
    "# To extract relevant statistics, perform the following EDA -\n",
    "# a. Top 20 most reviewed brands in the category that you have chosen.\n",
    "# b. Top 20 least reviewed brands in the category you have chosen.\n",
    "# c. Which is the most positively reviewed ‘Headphone’ ( Or for any other\n",
    "# electronic product you have selected)\n",
    "# d. Show the count of ratings for the product over 5 consecutive years.\n",
    "# e. Form a Word Cloud for ‘Good’ and ‘Bad’ ratings. Report the most\n",
    "# commonly used words for positive and negative reviews by observing the\n",
    "# good and bad word clouds.\n",
    "# f. Plot a pie chart for Distribution of Ratings vs. the No. of Reviews.\n",
    "# g. Report in which year the product got maximum reviews.\n",
    "# h. Which year has the highest number of Customers?\n",
    "\n",
    "\n",
    "# (a) and (b)\n",
    "asin_count = review_df['asin'].value_counts().to_dict()\n",
    "\n",
    "brand_count = defaultdict(int)\n",
    "for asin in asin_count:\n",
    "    brand = meta_df[meta_df['asin'] == asin]['brand'].values[0]\n",
    "    brand_count[brand] += asin_count[asin]\n",
    "\n",
    "brand_count = dict(sorted(brand_count.items(), key=lambda x: x[1], reverse=True))\n",
    "\n",
    "print(\"The top 20 most reviewed brands are: \", list(brand_count.keys())[:20])\n",
    "print(\"The top 20 least reviewed brands are: \", list(brand_count.keys())[-20:])\n",
    "\n",
    "\n",
    "# (c) \n",
    "most_positively_reviewed_asin = review_df.groupby('asin')['overall'].mean().idxmax()\n",
    "most_positively_reviewed_product = meta_df[meta_df['asin'] == most_positively_reviewed_asin]['title'].values[0]\n",
    "print(\"The most positively reviewed product is: \", most_positively_reviewed_product)\n",
    "print(\"\\n\\n\\n\")\n",
    "\n",
    "# (d)\n",
    "\n",
    "#count of ratings of the top3 most positively reviewed products in different years with their titles\n",
    "review_df['reviewTime'] = pd.to_datetime(review_df['reviewTime'])\n",
    "review_df['year'] = review_df['reviewTime'].dt.year\n",
    "\n",
    "top3_most_positively_reviewed_asins = review_df.groupby('asin')['overall'].mean().nlargest(3).index\n",
    "for asin in top3_most_positively_reviewed_asins:\n",
    "    product_title = meta_df[meta_df['asin'] == asin]['title'].values[0]\n",
    "    print(\"The count of ratings for the product \", product_title, \" over 5 consecutive years are: \")\n",
    "    print(review_df[review_df['asin'] == asin].groupby('year')['overall'].count())\n",
    "print(\"\\n\\n\\n\")\n",
    "\n",
    "# (e)\n",
    "\n",
    "good_reviews = review_df[review_df['overall'] >= 3]['processed_text'].str.cat(sep=' ')\n",
    "bad_reviews = review_df[review_df['overall'] < 3]['processed_text'].str.cat(sep=' ')\n",
    "\n",
    "good_wordcloud = WordCloud(width=800, height=400, background_color ='white').generate(good_reviews)\n",
    "bad_wordcloud = WordCloud(width=800, height=400, background_color ='white').generate(bad_reviews)\n",
    "\n",
    "print(\"The most commonly used words for positive reviews are: \")\n",
    "print(good_wordcloud.words_)\n",
    "\n",
    "print(\"upon observation the most commonly used words for positive reviews are: sound, good, great, well, comfortable, fit\")\n",
    "print(\"\\n\\n\\n\")\n",
    "\n",
    "print(\"The most commonly used words for negative reviews are: \")\n",
    "print(bad_wordcloud.words_)\n",
    "\n",
    "print(\"upon observation the most commonly used words for negative reviews are: use, even, work, look, back, still\")\n",
    "print(\"\\n\\n\\n\")"
   ]
  },
  {
   "cell_type": "code",
   "execution_count": 10,
   "metadata": {},
   "outputs": [
    {
     "name": "stdout",
     "output_type": "stream",
     "text": [
      "The distribution of ratings vs the number of reviews is: \n"
     ]
    },
    {
     "data": {
      "text/plain": [
       "<Axes: ylabel='count'>"
      ]
     },
     "execution_count": 10,
     "metadata": {},
     "output_type": "execute_result"
    },
    {
     "data": {
      "image/png": "[encoded data removed]",
      "text/plain": [
       "<Figure size 640x480 with 1 Axes>"
      ]
     },
     "metadata": {},
     "output_type": "display_data"
    }
   ],
   "source": [
    "# (f)\n",
    "\n",
    "rating_distribution = review_df['overall'].value_counts()\n",
    "print(\"The distribution of ratings vs the number of reviews is: \")\n",
    "rating_distribution.plot.pie(autopct='%1.1f%%')"
   ]
  },
  {
   "cell_type": "code",
   "execution_count": 11,
   "metadata": {},
   "outputs": [
    {
     "name": "stdout",
     "output_type": "stream",
     "text": [
      "The year in which the most positively reviewed product got maximum reviews is:  2017\n",
      "The year with the highest number of customers is:  2015\n"
     ]
    }
   ],
   "source": [
    "# (g)\n",
    "print(\"The year in which the most positively reviewed product got maximum reviews is: \", review_df[review_df['asin'] == most_positively_reviewed_asin]['year'].value_counts().idxmax())\n",
    "\n",
    "# (h)\n",
    "print(\"The year with the highest number of customers is: \", review_df['year'].value_counts().idxmax())"
   ]
  }
 ],
 "metadata": {
  "kernelspec": {
   "display_name": "env_pytorch",
   "language": "python",
   "name": "python3"
  },
  "language_info": {
   "codemirror_mode": {
    "name": "ipython",
    "version": 3
   },
   "file_extension": ".py",
   "mimetype": "text/x-python",
   "name": "python",
   "nbconvert_exporter": "python",
   "pygments_lexer": "ipython3",
   "version": "3.9.15"
  }
 },
 "nbformat": 4,
 "nbformat_minor": 2
}
