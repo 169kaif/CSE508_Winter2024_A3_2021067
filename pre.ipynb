{
 "cells": [
  {
   "cell_type": "code",
   "execution_count": 1,
   "metadata": {},
   "outputs": [],
   "source": [
    "#make imports\n",
    "\n",
    "import os\n",
    "import sys\n",
    "import pandas as pd\n",
    "import numpy as np\n",
    "import gzip\n",
    "import json"
   ]
  },
  {
   "cell_type": "code",
   "execution_count": 2,
   "metadata": {},
   "outputs": [],
   "source": [
    "def parse(path):\n",
    "  g = gzip.open(path, 'rb')\n",
    "  for l in g:\n",
    "    yield json.loads(l)\n",
    "\n",
    "def getDF(path):\n",
    "  i = 0\n",
    "  df = {}\n",
    "  for d in parse(path):\n",
    "    df[i] = d\n",
    "    i += 1\n",
    "  return pd.DataFrame.from_dict(df, orient='index')"
   ]
  },
  {
   "cell_type": "code",
   "execution_count": 3,
   "metadata": {},
   "outputs": [],
   "source": [
    "#load main data\n",
    "\n",
    "df_main = getDF('Electronics_5.json.gz')"
   ]
  },
  {
   "cell_type": "code",
   "execution_count": 4,
   "metadata": {},
   "outputs": [],
   "source": [
    "#load meta data\n",
    "\n",
    "df_meta = getDF('meta_Electronics.json.gz')"
   ]
  },
  {
   "cell_type": "code",
   "execution_count": 5,
   "metadata": {},
   "outputs": [],
   "source": [
    "#drop na\n",
    "\n",
    "df_main.dropna(inplace=True)\n",
    "df_meta.dropna(inplace=True)"
   ]
  },
  {
   "cell_type": "code",
   "execution_count": 6,
   "metadata": {},
   "outputs": [
    {
     "name": "stdout",
     "output_type": "stream",
     "text": [
      "Index(['overall', 'vote', 'verified', 'reviewTime', 'reviewerID', 'asin',\n",
      "       'style', 'reviewerName', 'reviewText', 'summary', 'unixReviewTime',\n",
      "       'image'],\n",
      "      dtype='object')\n",
      "Index(['category', 'tech1', 'description', 'fit', 'title', 'also_buy', 'tech2',\n",
      "       'brand', 'feature', 'rank', 'also_view', 'main_cat', 'similar_item',\n",
      "       'date', 'price', 'asin', 'imageURL', 'imageURLHighRes', 'details'],\n",
      "      dtype='object')\n"
     ]
    }
   ],
   "source": [
    "#display columns\n",
    "\n",
    "print(df_main.columns)\n",
    "print(df_meta.columns)"
   ]
  },
  {
   "cell_type": "code",
   "execution_count": 7,
   "metadata": {},
   "outputs": [],
   "source": [
    "#get rid of duplicates\n",
    "\n",
    "hashable_cols_main = []\n",
    "for column in df_main.columns:\n",
    "    if str(df_main[column].dtype) != 'object':\n",
    "        hashable_cols_main.append(column)\n",
    "\n",
    "hashable_cols_meta = []\n",
    "for column in df_meta.columns:\n",
    "    if str(df_meta[column].dtype) != 'object':\n",
    "        hashable_cols_meta.append(column)\n",
    "\n",
    "if (len(hashable_cols_main) > 0):\n",
    "    df_main.drop_duplicates(subset=hashable_cols_main, inplace=True)\n",
    "\n",
    "if (len(hashable_cols_meta) > 0):\n",
    "    df_meta.drop_duplicates(subset=hashable_cols_meta, inplace=True)"
   ]
  },
  {
   "cell_type": "code",
   "execution_count": 8,
   "metadata": {},
   "outputs": [],
   "source": [
    "#make df for headphones metadata after filtering for matches in title\n",
    "headphone_meta_df = df_meta[df_meta['title'].str.contains('headphone|headphones', case=False)]\n",
    "\n",
    "asins = set(headphone_meta_df['asin'])\n",
    "\n",
    "#make df for headphones review after filtering for matches using asin\n",
    "headphone_review_df = df_main[df_main['asin'].isin(asins)]"
   ]
  },
  {
   "cell_type": "code",
   "execution_count": null,
   "metadata": {},
   "outputs": [],
   "source": [
    "#dump to pickle\n",
    "import pickle\n",
    "\n",
    "headphone_meta_df.to_pickle('headphone_meta_df.pkl')\n",
    "headphone_review_df.to_pickle('headphone_review_df.pkl')"
   ]
  },
  {
   "cell_type": "code",
   "execution_count": null,
   "metadata": {},
   "outputs": [],
   "source": []
  }
 ],
 "metadata": {
  "kernelspec": {
   "display_name": "env_cuda",
   "language": "python",
   "name": "python3"
  },
  "language_info": {
   "codemirror_mode": {
    "name": "ipython",
    "version": 3
   },
   "file_extension": ".py",
   "mimetype": "text/x-python",
   "name": "python",
   "nbconvert_exporter": "python",
   "pygments_lexer": "ipython3",
   "version": "3.9.15"
  }
 },
 "nbformat": 4,
 "nbformat_minor": 2
}
